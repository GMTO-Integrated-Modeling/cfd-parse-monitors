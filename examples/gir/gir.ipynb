{
 "cells": [
  {
   "cell_type": "code",
   "execution_count": 1,
   "metadata": {},
   "outputs": [],
   "source": [
    "import numpy as np\n",
    "import matplotlib.pyplot as plt"
   ]
  },
  {
   "cell_type": "code",
   "execution_count": 4,
   "metadata": {},
   "outputs": [
    {
     "data": {
      "text/plain": [
       "{'pressure': -6.44621387589949,\n",
       " 'area_ijk': (-0.00534445032748162, 0.0118596202959737, 2.6641235664213e-06),\n",
       " 'xyz': (3.7913984593605, -2.15966449151885, -1.67374450962699)}"
      ]
     },
     "execution_count": 4,
     "metadata": {},
     "output_type": "execute_result"
    }
   ],
   "source": [
    "nodes = np.load(\"gir_nodes.pkl\",allow_pickle=True)\n",
    "nodes[0]"
   ]
  },
  {
   "cell_type": "code",
   "execution_count": 28,
   "metadata": {},
   "outputs": [],
   "source": [
    "(x,y,z) = ([],[],[])\n",
    "(fx,fy,fz) = ([],[],[])\n",
    "for n in nodes[::2]:\n",
    "    (n_x,n_y,n_z) = n[\"xyz\"]\n",
    "    (n_fx,n_fy,n_fz) = np.asarray(n[\"area_ijk\"])*n[\"pressure\"]\n",
    "    x += [n_x]\n",
    "    y += [n_y]\n",
    "    z += [n_z]\n",
    "    fx += [n_fx]\n",
    "    fy += [n_fy]\n",
    "    fz += [n_fz]"
   ]
  },
  {
   "cell_type": "code",
   "execution_count": 29,
   "metadata": {},
   "outputs": [
    {
     "data": {
      "text/plain": [
       "<mpl_toolkits.mplot3d.art3d.Line3DCollection at 0x7f96d2fcf040>"
      ]
     },
     "execution_count": 29,
     "metadata": {},
     "output_type": "execute_result"
    }
   ],
   "source": [
    "fig = plt.figure()\n",
    "ax = fig.add_subplot(projection='3d')\n",
    "ax.quiver3D(x,y,z,fx,fy,fz)"
   ]
  },
  {
   "cell_type": "code",
   "execution_count": 30,
   "metadata": {},
   "outputs": [
    {
     "data": {
      "text/plain": [
       "<matplotlib.colorbar.Colorbar at 0x7f96d3024340>"
      ]
     },
     "execution_count": 30,
     "metadata": {},
     "output_type": "execute_result"
    }
   ],
   "source": [
    "fig = plt.figure()\n",
    "ax = fig.add_subplot(projection='3d')\n",
    "h = ax.scatter(x,y,z,c=np.sqrt(np.sum([np.asarray(u)**2 for u in [fx,fy,fx]],0)),marker='.')\n",
    "fig.colorbar(h,ax=ax)"
   ]
  },
  {
   "cell_type": "code",
   "execution_count": null,
   "metadata": {},
   "outputs": [],
   "source": []
  }
 ],
 "metadata": {
  "kernelspec": {
   "display_name": "Python 3.8.3 ('base')",
   "language": "python",
   "name": "python3"
  },
  "language_info": {
   "codemirror_mode": {
    "name": "ipython",
    "version": 3
   },
   "file_extension": ".py",
   "mimetype": "text/x-python",
   "name": "python",
   "nbconvert_exporter": "python",
   "pygments_lexer": "ipython3",
   "version": "3.8.3"
  },
  "orig_nbformat": 4,
  "vscode": {
   "interpreter": {
    "hash": "2331d39690c62371bfb0044a715707d36b983f95dca993e8f77fe992c0bbcd85"
   }
  }
 },
 "nbformat": 4,
 "nbformat_minor": 2
}
